{
 "cells": [
  {
   "cell_type": "markdown",
   "metadata": {},
   "source": [
    "#### Gerando o PDF do Orçamento"
   ]
  },
  {
   "cell_type": "code",
   "execution_count": 3,
   "metadata": {},
   "outputs": [],
   "source": [
    "Projeto = input(\"Digite a Descrição do Projeto: \")\n",
    "Hora_previstas = int(input(\"Digite a Quantidade de Horas Previstas: \"))\n",
    "Valor_Horas = int(input(\"Digite o valor das horas Trabalhadas: \"))\n",
    "Prazo = input(\"Digite o Prazo Estimado: \")\n",
    "\n",
    "Valor_Total = Hora_previstas * Valor_Horas"
   ]
  },
  {
   "cell_type": "code",
   "execution_count": 4,
   "metadata": {},
   "outputs": [
    {
     "data": {
      "text/plain": [
       "''"
      ]
     },
     "execution_count": 4,
     "metadata": {},
     "output_type": "execute_result"
    }
   ],
   "source": [
    "# !pip install fpdf => Comando da Biblioteca do PDF\n",
    "from fpdf import FPDF\n",
    "\n",
    "pdf = FPDF() # Criando PDF\n",
    "\n",
    "pdf.add_page() # Adicionando Pagina\n",
    "pdf.set_font(\"Arial\") # Escolher a font\n",
    "\n",
    "pdf.image(\"Template.png\", x=0, y=0) # Adicionando imagem\n",
    "\n",
    "pdf.text(115, 145, Projeto) # Colocando Texto (x, y, texto)\n",
    "pdf.text(115, 160, str(Hora_previstas)) \n",
    "pdf.text(115, 175, str(Valor_Horas)) \n",
    "pdf.text(115, 190, Prazo)\n",
    "pdf.text(115, 205, str(Valor_Total))\n",
    "\n",
    "pdf.output(\"Orçamento.pdf\") # Salvando PDF"
   ]
  }
 ],
 "metadata": {
  "kernelspec": {
   "display_name": "Python 3",
   "language": "python",
   "name": "python3"
  },
  "language_info": {
   "codemirror_mode": {
    "name": "ipython",
    "version": 3
   },
   "file_extension": ".py",
   "mimetype": "text/x-python",
   "name": "python",
   "nbconvert_exporter": "python",
   "pygments_lexer": "ipython3",
   "version": "3.12.4"
  }
 },
 "nbformat": 4,
 "nbformat_minor": 2
}
