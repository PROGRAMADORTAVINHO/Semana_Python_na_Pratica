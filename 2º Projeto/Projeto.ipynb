{
 "cells": [
  {
   "cell_type": "markdown",
   "metadata": {},
   "source": [
    "### Automatizando Tarefas"
   ]
  },
  {
   "cell_type": "markdown",
   "metadata": {},
   "source": [
    "#### Buscar as informações da ação"
   ]
  },
  {
   "cell_type": "code",
   "execution_count": 5,
   "metadata": {},
   "outputs": [],
   "source": [
    "# !pip install yfinance => Biblioteca do Yahoo Financias\n",
    "\n",
    "import yfinance\n",
    "\n",
    "ticker = input(\"Digite a Ação Desejada: \")\n",
    "data_inicial = input(\"Digite a Data Inicial: \")\n",
    "data_final = input(\"Digite a Data Final: \")\n",
    "\n",
    "# .Ticker() Buscar a ação desejada | .history() Período desejada\n",
    "dados = yfinance.Ticker(ticker).history(start=data_inicial,end=data_final)\n",
    "fechamento = dados.Close # Mostrar só a tabela desjada "
   ]
  },
  {
   "cell_type": "markdown",
   "metadata": {},
   "source": [
    "#### Criar as análises solicitadas"
   ]
  },
  {
   "cell_type": "markdown",
   "metadata": {},
   "source": [
    "- Cotação máxima\n",
    "- Cotação mínima\n",
    "- Valor médio"
   ]
  },
  {
   "cell_type": "code",
   "execution_count": null,
   "metadata": {},
   "outputs": [],
   "source": [
    "maxima = round(fechamento.max(), 2) # Busca a cotação máxima\n",
    "minima = round(fechamento.min(), 2) # Busca a cotação mínima\n",
    "valor_medio = round(fechamento.mean(), 2) # Valor Média da cotação\n",
    "\n",
    "print(maxima)\n",
    "print(minima)\n",
    "print(valor_medio)"
   ]
  },
  {
   "cell_type": "markdown",
   "metadata": {},
   "source": [
    "#### Enviar um e-mail autumaticamente para o gestor"
   ]
  },
  {
   "cell_type": "markdown",
   "metadata": {},
   "source": [
    "- Abrir o navegador e ir para o gmail\n",
    "- Cliar no botão Escrever\n",
    "- Digitar o e-mail do destinatário e teclar Tab\n",
    "- Digitar o assunto e teclar Tab\n",
    "- Digitar a mensagem\n",
    "- Clicar no botão Enviar"
   ]
  },
  {
   "cell_type": "code",
   "execution_count": 10,
   "metadata": {},
   "outputs": [],
   "source": [
    "# !pip install pyautogui\n",
    "\n",
    "import pyautogui\n",
    "import pyperclip\n",
    "import webbrowser\n",
    "import time\n",
    "\n",
    "destinatario = \"jotavio250@gmail.com\"\n",
    "assunto = \"Teste\"\n",
    "mensagem = f\"\"\"Prezado gestor,\n",
    "\n",
    "Segue as análises solicitadas da ação {ticker}:\n",
    "\n",
    "Cotação máxima: R${maxima}\n",
    "Cotação mínima: R${minima}\n",
    "Valor médio: R${valor_medio}\n",
    "\n",
    "Qualquer dúvida, estou à disposição\n",
    "\n",
    "Att, João Otavio\n",
    "\"\"\"\n",
    "# Abrir o navegador\n",
    "webbrowser.open(\"www.gmail.com\")\n",
    "time.sleep(5) # 5 segundos | Esperar um tempo para continuar o código\n",
    "\n",
    "# Clicar no botão escrever\n",
    "pyautogui.click(x=71, y=202)\n",
    "\n",
    "# Pausa de 3 segundos\n",
    "pyautogui.PAUSE = 3 \n",
    "\n",
    "# Digtar o email e teclar Tab\n",
    "pyperclip.copy(destinatario)\n",
    "pyautogui.hotkey(\"ctrl\", \"v\")\n",
    "pyautogui.hotkey(\"tab\")\n",
    "\n",
    "# Digtar o assunto e teclar Tab\n",
    "pyperclip.copy(assunto)\n",
    "pyautogui.hotkey(\"ctrl\", \"v\")\n",
    "pyautogui.hotkey(\"tab\")\n",
    "\n",
    "# Digtar a mensagem\n",
    "pyperclip.copy(mensagem)\n",
    "pyautogui.hotkey(\"ctrl\", \"v\")\n",
    "\n",
    "# Clicar no botão Enviar\n",
    "pyautogui.click(x=848, y=704)\n",
    "\n",
    "# Fechar a aba\n",
    "pyautogui.hotkey(\"ctrl\", \"f4\")"
   ]
  },
  {
   "cell_type": "code",
   "execution_count": null,
   "metadata": {},
   "outputs": [],
   "source": [
    "time.sleep(5)\n",
    "# Mapeando os botoes\n",
    "pyautogui.position()"
   ]
  }
 ],
 "metadata": {
  "kernelspec": {
   "display_name": "Python 3",
   "language": "python",
   "name": "python3"
  },
  "language_info": {
   "codemirror_mode": {
    "name": "ipython",
    "version": 3
   },
   "file_extension": ".py",
   "mimetype": "text/x-python",
   "name": "python",
   "nbconvert_exporter": "python",
   "pygments_lexer": "ipython3",
   "version": "3.12.4"
  }
 },
 "nbformat": 4,
 "nbformat_minor": 2
}
