{
 "cells": [
  {
   "cell_type": "markdown",
   "metadata": {},
   "source": [
    "### Análise de dados e gráficos"
   ]
  },
  {
   "cell_type": "markdown",
   "metadata": {},
   "source": [
    "#### Bibliotecas"
   ]
  },
  {
   "cell_type": "code",
   "execution_count": null,
   "metadata": {},
   "outputs": [],
   "source": [
    "# !pip install pandas\n",
    "# !pip install  openpyxl\n",
    "# !pip install  plotly\n",
    "# !pip install nbformart"
   ]
  },
  {
   "cell_type": "markdown",
   "metadata": {},
   "source": [
    "#### Carregandos os Dados do Excel"
   ]
  },
  {
   "cell_type": "code",
   "execution_count": 4,
   "metadata": {},
   "outputs": [],
   "source": [
    "import pandas as pd\n",
    "\n",
    "dados = pd.read_excel('vendas.xlsx')"
   ]
  },
  {
   "cell_type": "markdown",
   "metadata": {},
   "source": [
    "#### Anánises Explorátirias"
   ]
  },
  {
   "cell_type": "code",
   "execution_count": null,
   "metadata": {},
   "outputs": [],
   "source": [
    "# Visualizando as primeiras linhas\n",
    "# Sempre começa com as 5 primeiras linhas, se quiser colocar mais linhas, coloque a quantidade: head(quantidade)\n",
    "dados.head()"
   ]
  },
  {
   "cell_type": "code",
   "execution_count": null,
   "metadata": {},
   "outputs": [],
   "source": [
    "# Visualizando as ultimas linhas\n",
    "# Se quiser colocar mais linhas, coloque a quantidade: head(quantidade)\n",
    "dados.tail()"
   ]
  },
  {
   "cell_type": "code",
   "execution_count": null,
   "metadata": {},
   "outputs": [],
   "source": [
    "# Formato da tabela de dados (linhas, colunas)\n",
    "dados.shape"
   ]
  },
  {
   "cell_type": "code",
   "execution_count": null,
   "metadata": {},
   "outputs": [],
   "source": [
    "# Visualizando informações das colunas\n",
    "# No pandas se Dtype = object, é um dados de texto\n",
    "dados.info()"
   ]
  },
  {
   "cell_type": "code",
   "execution_count": null,
   "metadata": {},
   "outputs": [],
   "source": [
    "# Selecionar colunas\n",
    "dados.loja\n",
    "dados[\"loja\"] # Uma coluna\n",
    "dados[[\"cidade\" , \"estado\"]] # Mais de uma coluna"
   ]
  },
  {
   "cell_type": "markdown",
   "metadata": {},
   "source": [
    "#### Estatíticas"
   ]
  },
  {
   "cell_type": "code",
   "execution_count": null,
   "metadata": {},
   "outputs": [],
   "source": [
    "# Traz as estatíticas\n",
    "dados.describe()\n",
    "dados[\"preco\"].describe() # Seleciona a tabela desejada"
   ]
  },
  {
   "cell_type": "markdown",
   "metadata": {},
   "source": [
    "#### Análises"
   ]
  },
  {
   "cell_type": "code",
   "execution_count": null,
   "metadata": {},
   "outputs": [],
   "source": [
    "# Contagem de vendadas por lojas\n",
    "dados[\"loja\"].value_counts()"
   ]
  },
  {
   "cell_type": "code",
   "execution_count": null,
   "metadata": {},
   "outputs": [],
   "source": [
    "dados[\"cidade\"].value_counts()"
   ]
  },
  {
   "cell_type": "code",
   "execution_count": null,
   "metadata": {},
   "outputs": [],
   "source": [
    "dados[\"forma_pagamento\"].value_counts()"
   ]
  },
  {
   "cell_type": "markdown",
   "metadata": {},
   "source": [
    "#### Agrupando Dados"
   ]
  },
  {
   "cell_type": "code",
   "execution_count": null,
   "metadata": {},
   "outputs": [],
   "source": [
    "# Faturamento por loja\n",
    "dados.groupby(\"loja\")[\"preco\"].sum().to_frame()\n",
    "# groupby => Agrupa os dados da coluna\n",
    "# sum() = > Soma os dados\n",
    "# to_frame() => Facilita a vizualização"
   ]
  },
  {
   "cell_type": "code",
   "execution_count": null,
   "metadata": {},
   "outputs": [],
   "source": [
    "# Faturamento por forma de pagamento\n",
    "dados.groupby(\"forma_pagamento\")[\"preco\"].sum().to_frame()"
   ]
  },
  {
   "cell_type": "code",
   "execution_count": 9,
   "metadata": {},
   "outputs": [],
   "source": [
    "# Faturamento por mais colunas\n",
    "dados_agrupados = dados.groupby([\"estado\", \"cidade\", \"loja\", \"forma_pagamento\"])[\"preco\"].sum().to_frame()\n",
    "dados_agrupados.to_excel(\"Faturamento.xlsx\")"
   ]
  },
  {
   "cell_type": "markdown",
   "metadata": {},
   "source": [
    "#### Vizualização de Dados"
   ]
  },
  {
   "cell_type": "code",
   "execution_count": 10,
   "metadata": {},
   "outputs": [],
   "source": [
    "import plotly.express as px"
   ]
  },
  {
   "cell_type": "code",
   "execution_count": null,
   "metadata": {},
   "outputs": [],
   "source": [
    "grafico = px.histogram(dados,   x=\"loja\",\n",
    "                                y=\"preco\",\n",
    "                                text_auto=True,\n",
    "                                title=\"Faturamento\",\n",
    "                                color=\"forma_pagamento\")\n",
    "grafico.show()\n",
    "grafico.write_html(\"Faturamento.html\") # Cria um arquico html"
   ]
  },
  {
   "cell_type": "code",
   "execution_count": null,
   "metadata": {},
   "outputs": [],
   "source": [
    "lista_colunas = [\"loja\", \"cidade\", \"estado\", \"tamanho\", \"local_consumo\"]\n",
    "\n",
    "for coluna in lista_colunas:\n",
    "    grafico = px.histogram(dados, x=coluna, y=\"preco\", text_auto=True, title=\"Faturamento\", color=\"forma_pagamento\")\n",
    "    grafico.show()\n",
    "    grafico.write_html(f\"Faturamento-{coluna}.html\")"
   ]
  }
 ],
 "metadata": {
  "kernelspec": {
   "display_name": "Python 3",
   "language": "python",
   "name": "python3"
  },
  "language_info": {
   "codemirror_mode": {
    "name": "ipython",
    "version": 3
   },
   "file_extension": ".py",
   "mimetype": "text/x-python",
   "name": "python",
   "nbconvert_exporter": "python",
   "pygments_lexer": "ipython3",
   "version": "3.12.4"
  }
 },
 "nbformat": 4,
 "nbformat_minor": 2
}
